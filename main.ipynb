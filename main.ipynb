{
 "cells": [
  {
   "cell_type": "code",
   "execution_count": 1,
   "metadata": {},
   "outputs": [],
   "source": [
    "import numpy as np\n",
    "import random\n",
    "import tqdm\n",
    "\n",
    "from utils import separate_dots, shuffle_dataset, generate_dots"
   ]
  },
  {
   "cell_type": "markdown",
   "metadata": {},
   "source": [
    "### parameters of the lab"
   ]
  },
  {
   "cell_type": "code",
   "execution_count": 10,
   "metadata": {},
   "outputs": [],
   "source": [
    "epochs = 20\n",
    "n_samples = 5000\n",
    "epsilon = 1e-4\n",
    "radius_start, radius_end = 1, 7\n",
    "center_start_x, center_end_x = -10, 10\n",
    "center_start_y, center_end_y = -10, 10"
   ]
  },
  {
   "cell_type": "markdown",
   "metadata": {},
   "source": [
    "###  generate radius and center\n",
    "(x_min,y_min), (x_max, y_max) - it's coordinates of the bounding box where points will be generated inside of"
   ]
  },
  {
   "cell_type": "code",
   "execution_count": 11,
   "metadata": {},
   "outputs": [
    {
     "name": "stdout",
     "output_type": "stream",
     "text": [
      "x_min = -16, y_min = -16, x_max = 16, y_max = 16\n",
      "radius_true = 3.30; center_true = (8.77,3.19)\n"
     ]
    }
   ],
   "source": [
    "radius = np.random.rand()*(radius_end - radius_start) + radius_start\n",
    "center_x = np.random.rand()*(center_end_x - center_start_x) + center_start_x\n",
    "center_y = np.random.rand()*(center_end_y - center_start_y) + center_start_y\n",
    "# (x_min,y_min) - it's a left lowwer angle of a space \n",
    "x_min = center_start_x - (radius_end - radius_start)\n",
    "y_min = center_start_y - (radius_end - radius_start)\n",
    "# (x_max,y_max) - it's a right upper angle of a space\n",
    "x_max = center_end_x + (radius_end - radius_start)\n",
    "y_max = center_end_y + (radius_end - radius_start)\n",
    "print(\"x_min = {}, y_min = {}, x_max = {}, y_max = {}\".format(x_min, y_min, x_max, y_max))\n",
    "print(\"radius_true = {:.2f}; center_true = ({:.2f},{:.2f})\".format(radius,center_x, center_y))"
   ]
  },
  {
   "cell_type": "markdown",
   "metadata": {},
   "source": [
    "### generate dots and extract inner and outer ones"
   ]
  },
  {
   "cell_type": "code",
   "execution_count": 12,
   "metadata": {},
   "outputs": [
    {
     "name": "stdout",
     "output_type": "stream",
     "text": [
      "inner points.shape =  (163, 2)\n",
      "outer points.shape =  (163, 2)\n",
      "x_train.shape :  (326, 2)\n",
      "y_train.shape :  (326,)\n"
     ]
    }
   ],
   "source": [
    "random_dots = generate_dots(x_min, y_min, x_max, y_max, n_samples)\n",
    "inner_points, outer_points = separate_dots(random_dots,center_x, center_y, radius, epsilon)\n",
    "print(\"inner points.shape = \", inner_points.shape)\n",
    "print(\"outer points.shape = \", outer_points.shape)\n",
    "x_train = np.concatenate([inner_points, outer_points],axis=0)\n",
    "# 0-lable for inner dots, 1-label  for outer dots\n",
    "y_train = np.concatenate([np.zeros((inner_points.shape[0],)),np.ones((outer_points.shape[0]))])\n",
    "print(\"x_train.shape : \", x_train.shape)\n",
    "print(\"y_train.shape : \", y_train.shape)"
   ]
  },
  {
   "cell_type": "markdown",
   "metadata": {},
   "source": [
    "### initialize parameters with random values"
   ]
  },
  {
   "cell_type": "code",
   "execution_count": 13,
   "metadata": {},
   "outputs": [
    {
     "name": "stdout",
     "output_type": "stream",
     "text": [
      "163\n",
      "167\n",
      "173\n",
      "179\n",
      "199\n",
      "215\n",
      "236\n",
      "257\n",
      "260\n",
      "270\n",
      "309\n",
      "325\n"
     ]
    }
   ],
   "source": [
    "a = np.array([0, 1, 0, 0])\n",
    "is_end = True\n",
    "i_prev = 0\n",
    "while(is_end):\n",
    "    for i, (dots, label) in enumerate(zip(x_train, y_train)):\n",
    "        x = np.array([1,dots[0]**2 + dots[1]**2, dots[0], dots[1]])\n",
    "\n",
    "        if a.dot(x.T) > 0 and label == 0:\n",
    "            a= a - x\n",
    "            break\n",
    "\n",
    "        if a.dot(x.T) < 0 and label == 1:\n",
    "            a=a+x\n",
    "            break\n",
    "\n",
    "        if i == x_train.shape[0] - 1:\n",
    "            is_end = False\n",
    "    if i_prev < i:\n",
    "        print(i)\n",
    "        i_prev = i"
   ]
  },
  {
   "cell_type": "code",
   "execution_count": 14,
   "metadata": {},
   "outputs": [
    {
     "name": "stdout",
     "output_type": "stream",
     "text": [
      "c_x_true : 8.76515698336539 , c_y_true : 3.1917457702759613, radius_true : 3.301585851702466\n"
     ]
    }
   ],
   "source": [
    "print(\"c_x_true : {} , c_y_true : {}, radius_true : {}\".format(center_x,center_y,radius))"
   ]
  },
  {
   "cell_type": "code",
   "execution_count": 18,
   "metadata": {},
   "outputs": [
    {
     "data": {
      "text/plain": [
       "8.459905175587917"
      ]
     },
     "execution_count": 18,
     "metadata": {},
     "output_type": "execute_result"
    }
   ],
   "source": [
    "c_x_pred = (-1/2)*(a[2]/a[1])\n",
    "c_x_pred"
   ]
  },
  {
   "cell_type": "code",
   "execution_count": 19,
   "metadata": {},
   "outputs": [
    {
     "data": {
      "text/plain": [
       "2.825349588021581"
      ]
     },
     "execution_count": 19,
     "metadata": {},
     "output_type": "execute_result"
    }
   ],
   "source": [
    "c_y_pred = (-1/2)*(a[3]/a[1])\n",
    "c_y_pred"
   ]
  },
  {
   "cell_type": "code",
   "execution_count": 20,
   "metadata": {},
   "outputs": [
    {
     "data": {
      "text/plain": [
       "3.827734590209343"
      ]
     },
     "execution_count": 20,
     "metadata": {},
     "output_type": "execute_result"
    }
   ],
   "source": [
    "radius_pred = np.sqrt(c_x_pred**2 + c_y_pred**2 - a[0]/a[1])\n",
    "radius_pred"
   ]
  },
  {
   "cell_type": "code",
   "execution_count": null,
   "metadata": {},
   "outputs": [],
   "source": []
  }
 ],
 "metadata": {
  "kernelspec": {
   "display_name": "Python 3",
   "language": "python",
   "name": "python3"
  },
  "language_info": {
   "codemirror_mode": {
    "name": "ipython",
    "version": 3
   },
   "file_extension": ".py",
   "mimetype": "text/x-python",
   "name": "python",
   "nbconvert_exporter": "python",
   "pygments_lexer": "ipython3",
   "version": "3.7.6"
  }
 },
 "nbformat": 4,
 "nbformat_minor": 2
}
