{
 "cells": [
  {
   "cell_type": "code",
   "execution_count": 1,
   "metadata": {},
   "outputs": [],
   "source": [
    "import numpy as np\n",
    "import random\n",
    "import tqdm\n",
    "\n",
    "from utils import separate_dots, shuffle_dataset, generate_dots"
   ]
  },
  {
   "cell_type": "markdown",
   "metadata": {},
   "source": [
    "### parameters of the lab"
   ]
  },
  {
   "cell_type": "code",
   "execution_count": 2,
   "metadata": {},
   "outputs": [],
   "source": [
    "epochs = 20\n",
    "n_samples = 20000000\n",
    "epsilon = 1e-4\n",
    "radius_start, radius_end = 1, 7\n",
    "center_start_x, center_end_x = -10, 10\n",
    "center_start_y, center_end_y = -10, 10"
   ]
  },
  {
   "cell_type": "markdown",
   "metadata": {},
   "source": [
    "###  generate radius and center\n",
    "(x_min,y_min), (x_max, y_max) - it's coordinates of the bounding box where points will be generated inside of"
   ]
  },
  {
   "cell_type": "code",
   "execution_count": 3,
   "metadata": {},
   "outputs": [
    {
     "name": "stdout",
     "output_type": "stream",
     "text": [
      "x_min = -16, y_min = -16, x_max = 16, y_max = 16\n",
      "radius_true = 2.29; center_true = (6.17,0.75)\n"
     ]
    }
   ],
   "source": [
    "radius = np.random.rand()*(radius_end - radius_start) + radius_start\n",
    "center_x = np.random.rand()*(center_end_x - center_start_x) + center_start_x\n",
    "center_y = np.random.rand()*(center_end_y - center_start_y) + center_start_y\n",
    "# (x_min,y_min) - it's a left lowwer angle of a space \n",
    "x_min = center_start_x - (radius_end - radius_start)\n",
    "y_min = center_start_y - (radius_end - radius_start)\n",
    "# (x_max,y_max) - it's a right upper angle of a space\n",
    "x_max = center_end_x + (radius_end - radius_start)\n",
    "y_max = center_end_y + (radius_end - radius_start)\n",
    "print(\"x_min = {}, y_min = {}, x_max = {}, y_max = {}\".format(x_min, y_min, x_max, y_max))\n",
    "print(\"radius_true = {:.2f}; center_true = ({:.2f},{:.2f})\".format(radius,center_x, center_y))"
   ]
  },
  {
   "cell_type": "markdown",
   "metadata": {},
   "source": [
    "### generate dots and extract inner and outer ones"
   ]
  },
  {
   "cell_type": "code",
   "execution_count": 4,
   "metadata": {},
   "outputs": [
    {
     "name": "stdout",
     "output_type": "stream",
     "text": [
      "inner points.shape =  (321143, 2)\n",
      "outer points.shape =  (321143, 2)\n",
      "x_train.shape :  (642286, 2)\n",
      "y_train.shape :  (642286,)\n"
     ]
    }
   ],
   "source": [
    "random_dots = generate_dots(x_min, y_min, x_max, y_max, n_samples)\n",
    "inner_points, outer_points = separate_dots(random_dots,center_x, center_y, radius, epsilon)\n",
    "print(\"inner points.shape = \", inner_points.shape)\n",
    "print(\"outer points.shape = \", outer_points.shape)\n",
    "x_train = np.concatenate([inner_points, outer_points],axis=0)\n",
    "# 0-lable for inner dots, 1-label  for outer dots\n",
    "y_train = np.concatenate([np.zeros((inner_points.shape[0],)),np.ones((outer_points.shape[0]))])\n",
    "print(\"x_train.shape : \", x_train.shape)\n",
    "print(\"y_train.shape : \", y_train.shape)"
   ]
  },
  {
   "cell_type": "markdown",
   "metadata": {},
   "source": [
    "### initialize parameters with random values"
   ]
  },
  {
   "cell_type": "code",
   "execution_count": 5,
   "metadata": {
    "scrolled": true
   },
   "outputs": [
    {
     "name": "stdout",
     "output_type": "stream",
     "text": [
      "radius = 5.599162193706479; center = (-8.784233354046371,-3.7764434612123328)\n"
     ]
    }
   ],
   "source": [
    "r_init = np.random.rand()*(radius_end - radius_start) + radius_start\n",
    "c_x_init = np.random.rand()*(center_end_x - center_start_x) + center_start_x\n",
    "c_y_init = np.random.rand()*(center_end_y - center_start_y) + center_start_y\n",
    "print(\"radius = {}; center = ({},{})\".format(r_init,c_x_init, c_y_init))"
   ]
  },
  {
   "cell_type": "code",
   "execution_count": 6,
   "metadata": {},
   "outputs": [
    {
     "name": "stdout",
     "output_type": "stream",
     "text": [
      "EPOCH : 0, c_x : 6.295454145953613 , c_y : 0.5945440494688226, radius : 2.6481242357414994\n",
      "EPOCH : 1, c_x : 6.150532270953601 , c_y : 0.7258525812299907, radius : 2.3199667288730854\n",
      "EPOCH : 2, c_x : 6.170747114703601 , c_y : 0.7168766939314103, radius : 2.473533623236813\n",
      "EPOCH : 3, c_x : 6.18568852095361 , c_y : 0.9030654871137815, radius : 2.569942837814004\n",
      "EPOCH : 4, c_x : 6.188911177203617 , c_y : 0.8586760008009164, radius : 2.4220409722020584\n",
      "EPOCH : 5, c_x : 6.220551802203612 , c_y : 0.7559075796278228, radius : 2.587082803119295\n",
      "EPOCH : 6, c_x : 6.288520552203597 , c_y : 0.7350427114637645, radius : 2.68553811377184\n",
      "EPOCH : 7, c_x : 6.2459424272035795 , c_y : 0.8722409689100574, radius : 2.701654594715077\n",
      "EPOCH : 8, c_x : 6.172895552203559 , c_y : 0.6603245043428727, radius : 2.3805470772090023\n",
      "EPOCH : 9, c_x : 6.226313520953536 , c_y : 0.6497782730730373, radius : 2.5525532908687283\n",
      "learning_rate =  0.01\n",
      "EPOCH : 10, c_x : 6.489301802203531 , c_y : 0.632843210664592, radius : 3.1524379211531603\n",
      "EPOCH : 11, c_x : 6.180483442828525 , c_y : 0.7314703678758947, radius : 2.3600340937190576\n",
      "EPOCH : 12, c_x : 6.182446333453526 , c_y : 0.7572951531084389, radius : 2.339332180839826\n",
      "EPOCH : 13, c_x : 6.172338911578522 , c_y : 0.739053833452066, radius : 2.295714408519683\n",
      "EPOCH : 14, c_x : 6.17065922407852 , c_y : 0.7439306854875888, radius : 2.2971296354088717\n",
      "EPOCH : 15, c_x : 6.175532270953519 , c_y : 0.736849348512491, radius : 2.30358030668565\n",
      "EPOCH : 16, c_x : 6.1710010209535175 , c_y : 0.74251967665275, radius : 2.2932347259241066\n",
      "EPOCH : 17, c_x : 6.180229536578515 , c_y : 0.7497212719591467, radius : 2.3202705764164375\n",
      "EPOCH : 18, c_x : 6.1693115678285135 , c_y : 0.7507046317728375, radius : 2.2935341947453605\n",
      "EPOCH : 19, c_x : 6.180747114703511 , c_y : 0.7359306811960562, radius : 2.321543732260887\n"
     ]
    }
   ],
   "source": [
    "a = np.array([1, 1, -2*c_x_init, -2*c_y_init, c_x_init**2 + c_y_init**2 - r_init**2])\n",
    "# enchance the convergence of algorithm\n",
    "learning_rate = 0.1\n",
    "for epoch in range(epochs):\n",
    "    x_train, y_train = shuffle_dataset(x_train,y_train)\n",
    "    for dot, label in zip(x_train, y_train):\n",
    "        x = np.array([dot[0]**2, dot[1]**2, dot[0], dot[1], 1])\n",
    "        \n",
    "        if a.dot(x.T) > 0 and label == 0:\n",
    "            a[2] -= learning_rate*x[2]\n",
    "            a[3] -= learning_rate*x[3]\n",
    "            a[4] -= learning_rate*x[4]\n",
    "        \n",
    "        if a.dot(x.T) < 0 and label == 1:\n",
    "            a[2] += learning_rate*x[2]\n",
    "            a[3] += learning_rate*x[3]\n",
    "            a[4] += learning_rate*x[4]\n",
    "\n",
    "    if epoch%10 == 0 and epoch != 0 :\n",
    "        learning_rate/=10\n",
    "        print(\"learning_rate = \", learning_rate)\n",
    "    \n",
    "    c_x_predicted = (-1/2)*a[2]\n",
    "    c_y_predicted = (-1/2)*a[3]\n",
    "    radius_predicted = np.sqrt(c_x_predicted**2 +c_y_predicted**2 - a[4])\n",
    "    print(\"EPOCH : {}, c_x : {} , c_y : {}, radius : {}\".format(epoch,c_x_predicted,\n",
    "                                                                c_y_predicted,radius_predicted))"
   ]
  },
  {
   "cell_type": "code",
   "execution_count": 7,
   "metadata": {},
   "outputs": [
    {
     "name": "stdout",
     "output_type": "stream",
     "text": [
      "c_x_true : 6.170838762729911 , c_y_true : 0.7469366378546312, radius_true : 2.2873869033968894\n"
     ]
    }
   ],
   "source": [
    "print(\"c_x_true : {} , c_y_true : {}, radius_true : {}\".format(center_x,center_y,radius))"
   ]
  },
  {
   "cell_type": "code",
   "execution_count": null,
   "metadata": {},
   "outputs": [],
   "source": []
  }
 ],
 "metadata": {
  "kernelspec": {
   "display_name": "Python 3",
   "language": "python",
   "name": "python3"
  },
  "language_info": {
   "codemirror_mode": {
    "name": "ipython",
    "version": 3
   },
   "file_extension": ".py",
   "mimetype": "text/x-python",
   "name": "python",
   "nbconvert_exporter": "python",
   "pygments_lexer": "ipython3",
   "version": "3.7.6"
  }
 },
 "nbformat": 4,
 "nbformat_minor": 2
}
